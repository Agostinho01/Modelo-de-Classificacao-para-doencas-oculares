{
 "cells": [
  {
   "cell_type": "code",
   "execution_count": 1,
   "id": "05765cca",
   "metadata": {},
   "outputs": [],
   "source": [
    "import numpy as np\n",
    "import pandas as np\n",
    "import os\n",
    "from sklearn.metrics import classification_report\n",
    "import seaborn as sn; sn.set(font_scale=1.4)\n",
    "from sklearn.utils import shuffle\n",
    "import matplotlib.pyplot as plt\n",
    "import cv2 #module for importing images\n",
    "import tensorflow as tf\n",
    "from tqdm import tqdm #visual effect\n"
   ]
  },
  {
   "cell_type": "code",
   "execution_count": 2,
   "id": "1d419335",
   "metadata": {},
   "outputs": [
    {
     "name": "stdout",
     "output_type": "stream",
     "text": [
      "{'normal': 0, 'cataract': 1, 'glaucoma': 2, 'retina_disease': 3}\n"
     ]
    }
   ],
   "source": [
    "class_names = ['normal', 'cataract', 'glaucoma', 'retina_disease']\n",
    "class_names_label = {class_name: i for i, class_name in enumerate(class_names)}\n",
    "\n",
    "nb_classes = len(class_names)\n",
    "\n",
    "print(class_names_label)\n",
    "\n",
    "IMAGE_SIZE = (150,150)\n"
   ]
  },
  {
   "cell_type": "code",
   "execution_count": 19,
   "id": "0d7a5684",
   "metadata": {},
   "outputs": [],
   "source": [
    "#I sow the images on my data set and it seems like are all png extension\n",
    "img_extension = ['png']"
   ]
  },
  {
   "cell_type": "code",
   "execution_count": 20,
   "id": "0bb26b98",
   "metadata": {},
   "outputs": [],
   "source": [
    "#Loading the data\n",
    "def load_data():\n",
    "    DIRECTORY = r\"C:\\Users\\Agostinho\\HD\\FENG\\4º ANO\\1º SEMESTRE\\IA_2\\Projecto\\Project\\archive\\dataset\"\n",
    "    CATEGORY = [\"seg_train\", \"seg_test\"]\n",
    "    \n",
    "    output = []\n",
    "    \n",
    "    for category in CATEGORY:\n",
    "        path = os.path.join(DIRECTORY, category)\n",
    "        print(path)\n",
    "        images = []\n",
    "        labels = []\n",
    "        \n",
    "        print(\"Loading {}\".format(category))\n",
    "        \n",
    "        for folder in os.listdir(path):\n",
    "            label = class_names_label[folder]\n",
    "            \n",
    "            #Iterate through each image in our folder\n",
    "            for file in os.listdir(os.path.join(path, folder)):\n",
    "                \n",
    "                #Get the path name of image\n",
    "                img_path = os.path.join(os.path.join(path, folder), file)\n",
    "                print(img_path)\n",
    "                \n",
    "                #open and resize the img\n",
    "                image = cv2.imread(img_path) \n",
    "                image = cv2.cvtColor(image, cv2.COLOR_BGR2RGB)\n",
    "                image = cv2.resize(image, IMAGE_SIZE)\n",
    "                \n",
    "                #Append the image and its corresponding label to the output\n",
    "                images.append(image)\n",
    "                labels.append(label)\n",
    "                \n",
    "        images = np.array(images, dtype = 'float32')\n",
    "        labels = np.array(labels, dtype = 'int32')\n",
    "        \n",
    "        output.append((images, labels))\n",
    "    \n",
    "    return output\n",
    "\n",
    "        "
   ]
  },
  {
   "cell_type": "code",
   "execution_count": 21,
   "id": "79e73706",
   "metadata": {},
   "outputs": [
    {
     "name": "stdout",
     "output_type": "stream",
     "text": [
      "C:\\Users\\Agostinho\\HD\\FENG\\4º ANO\\1º SEMESTRE\\IA_2\\Projecto\\Exemplo\\archive\\seg_train\n",
      "Loading seg_train\n",
      "C:\\Users\\Agostinho\\HD\\FENG\\4º ANO\\1º SEMESTRE\\IA_2\\Projecto\\Exemplo\\archive\\seg_train\\buildings\\10006.jpg\n"
     ]
    },
    {
     "ename": "error",
     "evalue": "OpenCV(4.7.0) D:\\a\\opencv-python\\opencv-python\\opencv\\modules\\imgproc\\src\\color.cpp:182: error: (-215:Assertion failed) !_src.empty() in function 'cv::cvtColor'\n",
     "output_type": "error",
     "traceback": [
      "\u001b[1;31m---------------------------------------------------------------------------\u001b[0m",
      "\u001b[1;31merror\u001b[0m                                     Traceback (most recent call last)",
      "Input \u001b[1;32mIn [21]\u001b[0m, in \u001b[0;36m<cell line: 1>\u001b[1;34m()\u001b[0m\n\u001b[1;32m----> 1\u001b[0m (train_images, train_labels), (test_images, test_labels) \u001b[38;5;241m=\u001b[39m \u001b[43mload_data\u001b[49m\u001b[43m(\u001b[49m\u001b[43m)\u001b[49m\n",
      "Input \u001b[1;32mIn [20]\u001b[0m, in \u001b[0;36mload_data\u001b[1;34m()\u001b[0m\n\u001b[0;32m     26\u001b[0m \u001b[38;5;66;03m#open and resize the img\u001b[39;00m\n\u001b[0;32m     27\u001b[0m image \u001b[38;5;241m=\u001b[39m cv2\u001b[38;5;241m.\u001b[39mimread(img_path) \n\u001b[1;32m---> 28\u001b[0m image \u001b[38;5;241m=\u001b[39m \u001b[43mcv2\u001b[49m\u001b[38;5;241;43m.\u001b[39;49m\u001b[43mcvtColor\u001b[49m\u001b[43m(\u001b[49m\u001b[43mimage\u001b[49m\u001b[43m,\u001b[49m\u001b[43m \u001b[49m\u001b[43mcv2\u001b[49m\u001b[38;5;241;43m.\u001b[39;49m\u001b[43mCOLOR_BGR2RGB\u001b[49m\u001b[43m)\u001b[49m\n\u001b[0;32m     29\u001b[0m image \u001b[38;5;241m=\u001b[39m cv2\u001b[38;5;241m.\u001b[39mresize(image, IMAGE_SIZE)\n\u001b[0;32m     31\u001b[0m \u001b[38;5;66;03m#Append the image and its corresponding label to the output\u001b[39;00m\n",
      "\u001b[1;31merror\u001b[0m: OpenCV(4.7.0) D:\\a\\opencv-python\\opencv-python\\opencv\\modules\\imgproc\\src\\color.cpp:182: error: (-215:Assertion failed) !_src.empty() in function 'cv::cvtColor'\n"
     ]
    }
   ],
   "source": [
    "(train_images, train_labels), (test_images, test_labels) = load_data()"
   ]
  },
  {
   "cell_type": "code",
   "execution_count": null,
   "id": "eb1e7cfd",
   "metadata": {},
   "outputs": [],
   "source": [
    "train_images, train_labels = shuffle(trian_images, train_labels, random_state=25)"
   ]
  },
  {
   "cell_type": "code",
   "execution_count": null,
   "id": "ded7cca3",
   "metadata": {},
   "outputs": [],
   "source": [
    "def display_examples(class_names, images, labels):\n",
    "    \"\"\"\n",
    "        Display 25 images from the images array with its corresponding labels\n",
    "    \"\"\"\"\n",
    "    \n",
    "    figsize = (20,20)\n",
    "    fig = plt.figure(figsize=figsize)\n",
    "    fig.suptitle(\"Some exemples of images of the dataset\", fontsize=16)\n",
    "    for i in range(25):\n",
    "        plt.subplot(5,5,i+1)\n",
    "        plt.xticks([])\n",
    "        plt.yticks([])\n",
    "        plt.grid(False)\n",
    "        image = cv2.resize(images[i], figsize)\n",
    "        plt.imgshow(image.astype(np.uint8))#, cmap=plt.cm.binary\n",
    "        plt.xlabel(class_names[label[i]])\n",
    "    plt.show()\n",
    "display_examples(class_names, train_images, train_labels)"
   ]
  },
  {
   "cell_type": "code",
   "execution_count": null,
   "id": "8b7fb5cd",
   "metadata": {},
   "outputs": [],
   "source": [
    "model = tf.keras.Sequencial([\n",
    "    tf.keras.layers.conv2D(32,(3,3), activation = 'relu', input_shape = (150, 150, 3)),\n",
    "    tf.keras.layers.MaxPooling2D(2,2),\n",
    "    tf.Keras.conv2D(32,(3,3), activation = 'relu'),\n",
    "    tf.keras.layers.MaxPooling2D(2,2),\n",
    "    tf.keras.layers.Flatten(),\n",
    "    tf.keras.layers.Dense(128, activation=tf.nn.relu),\n",
    "    tf.keras.layers.Dense(6, activation=tf.nn.softmax)\n",
    "])"
   ]
  },
  {
   "cell_type": "code",
   "execution_count": null,
   "id": "f53336ef",
   "metadata": {},
   "outputs": [],
   "source": [
    "model.compile(optimazer = 'adam', loss = 'sparse_categorical_crossentropy', metrics=['accuracy'])"
   ]
  },
  {
   "cell_type": "code",
   "execution_count": null,
   "id": "8a195904",
   "metadata": {},
   "outputs": [],
   "source": [
    "history = model.fit(train_images, train_labels, batch_size=128, epochs=4, validation_split = 0.2)"
   ]
  }
 ],
 "metadata": {
  "kernelspec": {
   "display_name": "Python 3 (ipykernel)",
   "language": "python",
   "name": "python3"
  },
  "language_info": {
   "codemirror_mode": {
    "name": "ipython",
    "version": 3
   },
   "file_extension": ".py",
   "mimetype": "text/x-python",
   "name": "python",
   "nbconvert_exporter": "python",
   "pygments_lexer": "ipython3",
   "version": "3.9.12"
  }
 },
 "nbformat": 4,
 "nbformat_minor": 5
}
